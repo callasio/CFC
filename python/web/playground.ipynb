{
 "cells": [
  {
   "cell_type": "code",
   "execution_count": 8,
   "id": "a40c9d6d-5606-499a-bfb8-a44737bb4362",
   "metadata": {},
   "outputs": [],
   "source": [
    "from selenium import webdriver\n",
    "from selenium.webdriver.common.keys import Keys\n",
    "from selenium.webdriver.common.by import By"
   ]
  },
  {
   "cell_type": "code",
   "execution_count": 2,
   "id": "830f0ab1-dadf-4950-a407-40296a4831cb",
   "metadata": {},
   "outputs": [],
   "source": [
    "driver = webdriver.Firefox()"
   ]
  },
  {
   "cell_type": "code",
   "execution_count": 27,
   "id": "ef69b86e-c68e-4d25-95b5-5c9f185ff1f5",
   "metadata": {},
   "outputs": [],
   "source": [
    "driver.get(\"https://codeforces.com/enter\")"
   ]
  },
  {
   "cell_type": "code",
   "execution_count": 28,
   "id": "8887e7e5-ec3f-4347-acf8-6ec69baf30ae",
   "metadata": {},
   "outputs": [],
   "source": [
    "handle_or_email = driver.find_element(By.ID, 'handleOrEmail')"
   ]
  },
  {
   "cell_type": "code",
   "execution_count": 29,
   "id": "cc4fa7e1-2997-4cca-8edc-7aaed8c1e621",
   "metadata": {},
   "outputs": [],
   "source": [
    "handle_or_email.send_keys('chelate1118')"
   ]
  },
  {
   "cell_type": "code",
   "execution_count": 30,
   "id": "62f29360-4728-4c58-8dd9-f62154c00a4e",
   "metadata": {},
   "outputs": [],
   "source": [
    "driver.find_element(By.ID, 'password').send_keys('ryan1072*')"
   ]
  },
  {
   "cell_type": "code",
   "execution_count": 31,
   "id": "e023aa1f-1b78-48ef-8d96-08e5a8b005c3",
   "metadata": {},
   "outputs": [],
   "source": [
    "driver.find_element(By.CLASS_NAME, 'submit').click()"
   ]
  },
  {
   "cell_type": "code",
   "execution_count": null,
   "id": "910c5f4e-56c5-4bf1-9fab-7abc90b9278c",
   "metadata": {},
   "outputs": [],
   "source": []
  }
 ],
 "metadata": {
  "kernelspec": {
   "display_name": "Python 3 (ipykernel)",
   "language": "python",
   "name": "python3"
  },
  "language_info": {
   "codemirror_mode": {
    "name": "ipython",
    "version": 3
   },
   "file_extension": ".py",
   "mimetype": "text/x-python",
   "name": "python",
   "nbconvert_exporter": "python",
   "pygments_lexer": "ipython3",
   "version": "3.11.4"
  }
 },
 "nbformat": 4,
 "nbformat_minor": 5
}
